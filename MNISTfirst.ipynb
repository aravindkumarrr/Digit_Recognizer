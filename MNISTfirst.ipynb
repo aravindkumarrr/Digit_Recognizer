{
 "cells": [
  {
   "cell_type": "code",
   "execution_count": 1,
   "id": "2a708e5b",
   "metadata": {},
   "outputs": [],
   "source": [
    "import numpy as np #for Linear Algebra (matrices)\n",
    "import pandas as pd #for reading the data\n",
    "from matplotlib import pyplot as plt"
   ]
  },
  {
   "cell_type": "code",
   "execution_count": 2,
   "id": "a27b9a78",
   "metadata": {},
   "outputs": [],
   "source": [
    "data = pd.read_csv(r'C:\\Users\\Aravind Kumar\\Documents\\Programming Projects\\Python MNIST Project\\train.csv')"
   ]
  },
  {
   "cell_type": "code",
   "execution_count": 3,
   "id": "c0a74f28",
   "metadata": {},
   "outputs": [],
   "source": [
    "#data.head() Shows the preview of the table"
   ]
  },
  {
   "cell_type": "code",
   "execution_count": 4,
   "id": "fadcdbc0",
   "metadata": {},
   "outputs": [],
   "source": [
    "data=np.array(data) #converts pandas to numpy\n",
    "m , n = data.shape #shape of the data, where m is rows (examples), and n is columns (pixels)\n",
    "np.random.shuffle(data) #shuffle the data alogn the rows to avoid any bias\n",
    "\n",
    "data_dev= data[0:1000].T #Selects first 1000 samples for dev/validation and transposes it.\n",
    "Y_dev=data_dev[0] #This is the final output (the numbers 0-9). This is the first column (0th index). \n",
    "X_dev=data_dev[1:n] #This is the remaining columns (n=784 pixels).\n",
    "\n",
    "data_train=data[1000:m].T #This is the training set of the data which is from 1000 to m (here 42000)\n",
    "Y_train=data_train[0] #Same like validation set, first column is the output labels.\n",
    "X_train=data_train[1:n] #Same like validation set, this is the remaining columns \n",
    "\n",
    "\n",
    "X_train = X_train / 255\n",
    "X_dev = X_dev / 255"
   ]
  },
  {
   "cell_type": "markdown",
   "id": "563b26a3",
   "metadata": {},
   "source": [
    "The training data is normalized between 0 and 1 (by dividing by 255). With this normalization:\n",
    "    - Stabilized Learning: Neural networks learn through gradient descent, and large input values can lead to very large activations and gradients. This leads to exploding/vanishing gradients, and unstable learning.\n",
    "    - Converge faster: The weights don't have to work as hard to adjust to the wide ranging inputs (instead of 0-255, it's now 0-1)\n",
    "    - Prevent bias towards highs and ensures each pixel contributes equally. \n",
    "    - Works well with softmax and ReLU activation functions as they work best with small input values."
   ]
  },
  {
   "cell_type": "code",
   "execution_count": 5,
   "id": "bcb24db4",
   "metadata": {},
   "outputs": [],
   "source": [
    "def init_params():\n",
    "    W1 = np.random.normal(size=(10, 784)) * np.sqrt(1./(784))\n",
    "    b1 = np.zeros((10,1))\n",
    "    W2 = np.random.normal(size=(10, 10)) * np.sqrt(1./20)\n",
    "    b2 = np.zeros((10,1))\n",
    "    return W1, b1, W2, b2\n"
   ]
  },
  {
   "cell_type": "markdown",
   "id": "712657a7",
   "metadata": {},
   "source": [
    "### Weights are needed per connection, but biases are needed per neuron.\n",
    "### rand(p,q) generates a random matrix of size p by q.\n",
    "W1 is weight matrix of the first layer (input to hidden). 10 hidden neurons with 784 weight (one per input pixel). Therefore, 10 rows and 784 columns. The -0.5 is to center the weights around 0, instead of 0-1.\n",
    "For W2, it is weight matrix of the second layer (hidden to output). 10 output neurons each taking 10 inputs from hidden layer. Therefore, 10 rows and 10 columns. \n",
    "\n",
    "b1 and b2 are bias matrices. Only one bias required per neuron therefore it is a 10 by 1, column matrix.\n"
   ]
  },
  {
   "cell_type": "code",
   "execution_count": 6,
   "id": "ca7e809c",
   "metadata": {},
   "outputs": [],
   "source": [
    "def ReLU(Z):\n",
    "    return np.maximum(0,Z) #First layer activation function"
   ]
  },
  {
   "cell_type": "code",
   "execution_count": 7,
   "id": "5381e1d5",
   "metadata": {},
   "outputs": [],
   "source": [
    "def softmax(Z):\n",
    "    Z = Z-np.max(Z,axis=0)\n",
    "    return np.exp(Z)/np.sum(np.exp(Z),axis =0) #Second layer activation function"
   ]
  },
  {
   "cell_type": "code",
   "execution_count": 8,
   "id": "fee3de06",
   "metadata": {},
   "outputs": [],
   "source": [
    "def forward_prop(W1,b1,W2,b2,X):\n",
    "    Z1=W1.dot(X)+b1\n",
    "    A1=ReLU(Z1)\n",
    "    Z2=W2.dot(A1)+b2\n",
    "    A2=softmax(Z2)\n",
    "    return Z1, A1, Z2, A2"
   ]
  },
  {
   "cell_type": "markdown",
   "id": "098d8670",
   "metadata": {},
   "source": [
    "one_hot encoding explination: Consider the row to be indices and the value/label to be column.\n",
    "First, a 0 matrix of size(Y) and Y.max + 1 is created.\n",
    "\n",
    "Next, the 1s have to be placed in correct locations.\n",
    "Example, for Y=[2,0,1], the one-hot encoding should be: \n",
    "    Row 0, Column 2 = 1\n",
    "    Row 1, Column 0 = 1\n",
    "    Row 2, Column 1 = 1\n",
    "The resulting matrix becomes: \n",
    "    [0, 0, 1]\n",
    "    [1, 0, 0]\n",
    "    [0, 1, 0]\n",
    "\n",
    "Then the transpose is taken so that rows = label and column = example."
   ]
  },
  {
   "cell_type": "code",
   "execution_count": 9,
   "id": "e1f29658",
   "metadata": {},
   "outputs": [],
   "source": [
    "def one_hot(Y):\n",
    "    one_hot_Y = np.zeros((Y.size, Y.max() + 1)) #generating a 0 matrix of the size of Y by max of Y + 1\n",
    "    one_hot_Y[np.arange(Y.size), Y] = 1 #Rows is given by np.arrange(Y.size), and column is given by Y(output)\n",
    "    one_hot_Y = one_hot_Y.T\n",
    "    return one_hot_Y"
   ]
  },
  {
   "cell_type": "markdown",
   "id": "3fd98a27",
   "metadata": {},
   "source": [
    "One-hot encoding is a way to represent categorical labels (like digits 0–9) as vectors consisting of 0s and a single 1.\n",
    "The label is encoded such that only the index corresponding to the label is “hot” (set to 1), while all others are “cold” (set to 0).\n",
    "\n",
    "For example, if the label is 4, the one-hot encoded vector is: [0, 0, 0, 0, 1, 0, 0, 0, 0, 0]\n",
    "\n",
    "Each label can be thought of as an axis in a 10-dimensional space, where the axes are all orthogonal (independent). A one-hot vector is like a unit vector pointing in the direction of the correct class.\n",
    "\n",
    "When a model predicts probabilities (typically using a softmax layer), the output is a probability distribution across all classes.\n",
    "To evaluate how close this predicted distribution is to the true one-hot label, we use a loss function called cross-entropy loss.\n",
    "\n",
    "Cross-entropy loss measures how well the predicted probability for the correct class matches 1, and penalizes incorrect predictions more severely. The goal is to minimize this loss so that the model’s predicted probabilities match the true labels more accurately over time."
   ]
  },
  {
   "cell_type": "code",
   "execution_count": 10,
   "id": "06fc41d6",
   "metadata": {},
   "outputs": [],
   "source": [
    "def deriv_ReLU(Z):\n",
    "    return Z>0 #When booleans converted to numbers, true = 1 and false is 0. Derivative of ReLU is either 1 or 0"
   ]
  },
  {
   "cell_type": "code",
   "execution_count": 11,
   "id": "e7eef305",
   "metadata": {},
   "outputs": [],
   "source": [
    "def back_prop(Z1,A1,Z2,A2,W1,W2,X,Y):\n",
    "    m=Y.size\n",
    "    one_hot_Y=one_hot(Y)\n",
    "    dZ2=A2-one_hot_Y #one_hot_Y here is the output\n",
    "    dW2=1/m * dZ2.dot(A1.T)\n",
    "    dZ1 = W2.T.dot(dZ2)*deriv_ReLU(Z1)\n",
    "    dW1=1/m * dZ1.dot(X.T)\n",
    "    db2 = 1/m * np.sum(dZ2, axis=1, keepdims=True)\n",
    "    db1 = 1/m * np.sum(dZ1, axis=1, keepdims=True)\n",
    "    return dW1, db1, dW2, db2"
   ]
  },
  {
   "cell_type": "markdown",
   "id": "24190471",
   "metadata": {},
   "source": [
    " Without keepdims and axis, it sums over the entire matrix, producing a scalar, whereas it should be summed column-wise (i.e., over the samples), to get a bias vector."
   ]
  },
  {
   "cell_type": "code",
   "execution_count": 12,
   "id": "c71c3bdb",
   "metadata": {},
   "outputs": [],
   "source": [
    "def update_params(W1, b1, W2, b2, dW1, db1, dW2, db2, alpha):\n",
    "    W1=W1-alpha*dW1\n",
    "    b1=b1-alpha*db1\n",
    "    W2=W2-alpha*dW2\n",
    "    b2=b2-alpha*db2\n",
    "\n",
    "    return W1, b1, W2, b2"
   ]
  },
  {
   "cell_type": "code",
   "execution_count": 13,
   "id": "2cd28137",
   "metadata": {},
   "outputs": [],
   "source": [
    "def get_predictions(A2):\n",
    "    return np.argmax(A2,0)"
   ]
  },
  {
   "cell_type": "code",
   "execution_count": 14,
   "id": "86fd9db3",
   "metadata": {},
   "outputs": [],
   "source": [
    "def get_accuracy(predictions, Y):\n",
    "    print(predictions, Y)\n",
    "    return np.sum(predictions == Y)/Y.size"
   ]
  },
  {
   "cell_type": "code",
   "execution_count": 15,
   "id": "cb0b4efc",
   "metadata": {},
   "outputs": [],
   "source": [
    "def make_predictions(X, W1, b1, W2, b2):\n",
    "    _, _, _, A2 = forward_prop(W1, b1, W2, b2, X)\n",
    "    predictions = get_predictions(A2)\n",
    "    return predictions\n",
    "\n",
    "def test_prediction(index, W1, b1, W2, b2):\n",
    "    current_image = X_train[:, index, None]\n",
    "    prediction = make_predictions(X_train[:, index, None], W1, b1, W2, b2)\n",
    "    label = Y_train[index]\n",
    "    print(\"Prediction: \", prediction)\n",
    "    print(\"Label: \", label)\n",
    "    \n",
    "    current_image = current_image.reshape((28, 28)) * 255\n",
    "    plt.gray()\n",
    "    plt.imshow(current_image, interpolation='nearest')\n",
    "    plt.show()"
   ]
  },
  {
   "cell_type": "code",
   "execution_count": 16,
   "id": "7ca14c6e",
   "metadata": {},
   "outputs": [],
   "source": [
    "def gradient_descent(X, Y, alpha, iterations):\n",
    "    W1, b1, W2, b2 = init_params()\n",
    "    for i in range(iterations):\n",
    "        Z1, A1, Z2, A2 = forward_prop(W1, b1, W2, b2, X)\n",
    "        dW1, db1, dW2, db2 = back_prop(Z1, A1, Z2, A2,W1, W2, X, Y)\n",
    "        W1, b1, W2, b2 = update_params(W1, b1, W2, b2, dW1, db1, dW2, db2, alpha)\n",
    "        if i % 10 == 0:\n",
    "            print(\"Iteration: \", i)\n",
    "            predictions = get_predictions(A2)\n",
    "            print(\"Accuracy: \", get_accuracy(predictions, Y))\n",
    "            if i%100==0:\n",
    "                test_prediction(i, W1, b1, W2, b2)\n",
    "    return W1, b1, W2, b2"
   ]
  },
  {
   "cell_type": "code",
   "execution_count": 17,
   "id": "221aa138",
   "metadata": {},
   "outputs": [
    {
     "name": "stdout",
     "output_type": "stream",
     "text": [
      "Iteration:  0\n",
      "[5 5 5 ... 5 5 5] [9 7 8 ... 8 5 0]\n",
      "Accuracy:  0.10409756097560975\n",
      "Prediction:  [3]\n",
      "Label:  9\n"
     ]
    },
    {
     "data": {
      "image/png": "[encoded data removed]",
      "text/plain": [
       "<Figure size 640x480 with 1 Axes>"
      ]
     },
     "metadata": {},
     "output_type": "display_data"
    },
    {
     "name": "stdout",
     "output_type": "stream",
     "text": [
      "Iteration:  10\n",
      "[4 7 8 ... 8 0 6] [9 7 8 ... 8 5 0]\n",
      "Accuracy:  0.6176829268292683\n",
      "Iteration:  20\n",
      "[9 9 8 ... 1 0 0] [9 7 8 ... 8 5 0]\n",
      "Accuracy:  0.572560975609756\n",
      "Iteration:  30\n",
      "[9 7 9 ... 1 5 0] [9 7 8 ... 8 5 0]\n",
      "Accuracy:  0.7617073170731707\n",
      "Iteration:  40\n",
      "[9 7 8 ... 1 5 0] [9 7 8 ... 8 5 0]\n",
      "Accuracy:  0.8376829268292683\n",
      "Iteration:  50\n",
      "[9 7 8 ... 8 5 0] [9 7 8 ... 8 5 0]\n",
      "Accuracy:  0.8438292682926829\n",
      "Iteration:  60\n",
      "[9 7 8 ... 8 5 0] [9 7 8 ... 8 5 0]\n",
      "Accuracy:  0.8646341463414634\n",
      "Iteration:  70\n",
      "[9 7 8 ... 8 5 0] [9 7 8 ... 8 5 0]\n",
      "Accuracy:  0.8818292682926829\n",
      "Iteration:  80\n",
      "[9 7 8 ... 8 5 0] [9 7 8 ... 8 5 0]\n",
      "Accuracy:  0.8798048780487805\n",
      "Iteration:  90\n",
      "[9 7 8 ... 8 5 0] [9 7 8 ... 8 5 0]\n",
      "Accuracy:  0.8909756097560976\n",
      "Iteration:  100\n",
      "[9 7 8 ... 8 5 0] [9 7 8 ... 8 5 0]\n",
      "Accuracy:  0.8959512195121951\n",
      "Prediction:  [7]\n",
      "Label:  7\n"
     ]
    },
    {
     "data": {
      "image/png": "[encoded data removed]",
      "text/plain": [
       "<Figure size 640x480 with 1 Axes>"
      ]
     },
     "metadata": {},
     "output_type": "display_data"
    },
    {
     "name": "stdout",
     "output_type": "stream",
     "text": [
      "Iteration:  110\n",
      "[9 7 8 ... 8 5 0] [9 7 8 ... 8 5 0]\n",
      "Accuracy:  0.8931219512195122\n",
      "Iteration:  120\n",
      "[9 7 8 ... 8 5 0] [9 7 8 ... 8 5 0]\n",
      "Accuracy:  0.8920731707317073\n",
      "Iteration:  130\n",
      "[9 7 5 ... 8 5 0] [9 7 8 ... 8 5 0]\n",
      "Accuracy:  0.885609756097561\n",
      "Iteration:  140\n",
      "[9 7 8 ... 8 5 0] [9 7 8 ... 8 5 0]\n",
      "Accuracy:  0.9093170731707317\n",
      "Iteration:  150\n",
      "[9 7 8 ... 8 5 0] [9 7 8 ... 8 5 0]\n",
      "Accuracy:  0.911219512195122\n",
      "Iteration:  160\n",
      "[9 7 5 ... 8 5 0] [9 7 8 ... 8 5 0]\n",
      "Accuracy:  0.909609756097561\n",
      "Iteration:  170\n",
      "[9 7 5 ... 8 5 0] [9 7 8 ... 8 5 0]\n",
      "Accuracy:  0.903\n",
      "Iteration:  180\n",
      "[9 7 8 ... 8 5 0] [9 7 8 ... 8 5 0]\n",
      "Accuracy:  0.9133902439024391\n",
      "Iteration:  190\n",
      "[9 7 8 ... 8 5 0] [9 7 8 ... 8 5 0]\n",
      "Accuracy:  0.9156829268292683\n",
      "Iteration:  200\n",
      "[9 7 8 ... 8 5 0] [9 7 8 ... 8 5 0]\n",
      "Accuracy:  0.9164146341463415\n",
      "Prediction:  [4]\n",
      "Label:  4\n"
     ]
    },
    {
     "data": {
      "image/png": "[encoded data removed]",
      "text/plain": [
       "<Figure size 640x480 with 1 Axes>"
      ]
     },
     "metadata": {},
     "output_type": "display_data"
    },
    {
     "name": "stdout",
     "output_type": "stream",
     "text": [
      "Iteration:  210\n",
      "[9 7 8 ... 8 5 0] [9 7 8 ... 8 5 0]\n",
      "Accuracy:  0.916219512195122\n",
      "Iteration:  220\n",
      "[9 7 5 ... 8 5 0] [9 7 8 ... 8 5 0]\n",
      "Accuracy:  0.9113414634146342\n",
      "Iteration:  230\n",
      "[9 7 5 ... 8 5 0] [9 7 8 ... 8 5 0]\n",
      "Accuracy:  0.9087804878048781\n",
      "Iteration:  240\n",
      "[9 7 8 ... 8 5 0] [9 7 8 ... 8 5 0]\n",
      "Accuracy:  0.9187317073170732\n",
      "Iteration:  250\n",
      "[9 7 8 ... 8 5 0] [9 7 8 ... 8 5 0]\n",
      "Accuracy:  0.9201951219512196\n",
      "Iteration:  260\n",
      "[9 7 8 ... 8 5 0] [9 7 8 ... 8 5 0]\n",
      "Accuracy:  0.9209268292682927\n",
      "Iteration:  270\n",
      "[9 7 8 ... 8 5 0] [9 7 8 ... 8 5 0]\n",
      "Accuracy:  0.9215853658536586\n",
      "Iteration:  280\n",
      "[9 7 8 ... 8 5 0] [9 7 8 ... 8 5 0]\n",
      "Accuracy:  0.9211951219512196\n",
      "Iteration:  290\n",
      "[9 7 8 ... 8 5 0] [9 7 8 ... 8 5 0]\n",
      "Accuracy:  0.9203658536585366\n",
      "Iteration:  300\n",
      "[9 7 5 ... 8 5 0] [9 7 8 ... 8 5 0]\n",
      "Accuracy:  0.914\n",
      "Prediction:  [6]\n",
      "Label:  6\n"
     ]
    },
    {
     "data": {
      "image/png": "[encoded data removed]",
      "text/plain": [
       "<Figure size 640x480 with 1 Axes>"
      ]
     },
     "metadata": {},
     "output_type": "display_data"
    },
    {
     "name": "stdout",
     "output_type": "stream",
     "text": [
      "Iteration:  310\n",
      "[9 7 5 ... 8 5 0] [9 7 8 ... 8 5 0]\n",
      "Accuracy:  0.9160243902439025\n",
      "Iteration:  320\n",
      "[9 7 8 ... 8 5 0] [9 7 8 ... 8 5 0]\n",
      "Accuracy:  0.9241463414634147\n",
      "Iteration:  330\n",
      "[9 7 8 ... 8 5 0] [9 7 8 ... 8 5 0]\n",
      "Accuracy:  0.9253902439024391\n",
      "Iteration:  340\n",
      "[9 7 8 ... 8 5 0] [9 7 8 ... 8 5 0]\n",
      "Accuracy:  0.9259268292682927\n",
      "Iteration:  350\n",
      "[9 7 8 ... 8 5 0] [9 7 8 ... 8 5 0]\n",
      "Accuracy:  0.9263658536585366\n",
      "Iteration:  360\n",
      "[9 7 8 ... 8 5 0] [9 7 8 ... 8 5 0]\n",
      "Accuracy:  0.9268536585365854\n",
      "Iteration:  370\n",
      "[9 7 8 ... 8 5 0] [9 7 8 ... 8 5 0]\n",
      "Accuracy:  0.926609756097561\n",
      "Iteration:  380\n",
      "[9 7 5 ... 8 5 0] [9 7 8 ... 8 5 0]\n",
      "Accuracy:  0.9237560975609757\n",
      "Iteration:  390\n",
      "[9 7 5 ... 8 5 0] [9 7 8 ... 8 5 0]\n",
      "Accuracy:  0.922219512195122\n",
      "Iteration:  400\n",
      "[9 7 8 ... 8 5 0] [9 7 8 ... 8 5 0]\n",
      "Accuracy:  0.9273902439024391\n",
      "Prediction:  [1]\n",
      "Label:  1\n"
     ]
    },
    {
     "data": {
      "image/png": "[encoded data removed]",
      "text/plain": [
       "<Figure size 640x480 with 1 Axes>"
      ]
     },
     "metadata": {},
     "output_type": "display_data"
    },
    {
     "name": "stdout",
     "output_type": "stream",
     "text": [
      "Iteration:  410\n",
      "[9 7 8 ... 8 5 0] [9 7 8 ... 8 5 0]\n",
      "Accuracy:  0.9286829268292683\n",
      "Iteration:  420\n",
      "[9 7 8 ... 8 5 0] [9 7 8 ... 8 5 0]\n",
      "Accuracy:  0.9292439024390244\n",
      "Iteration:  430\n",
      "[9 7 8 ... 8 5 0] [9 7 8 ... 8 5 0]\n",
      "Accuracy:  0.9291951219512196\n",
      "Iteration:  440\n",
      "[9 7 8 ... 8 5 0] [9 7 8 ... 8 5 0]\n",
      "Accuracy:  0.9289756097560976\n",
      "Iteration:  450\n",
      "[9 7 4 ... 8 5 0] [9 7 8 ... 8 5 0]\n",
      "Accuracy:  0.9242682926829269\n",
      "Iteration:  460\n",
      "[9 7 4 ... 8 5 0] [9 7 8 ... 8 5 0]\n",
      "Accuracy:  0.9084146341463415\n",
      "Iteration:  470\n",
      "[9 7 8 ... 8 5 0] [9 7 8 ... 8 5 0]\n",
      "Accuracy:  0.9276829268292683\n",
      "Iteration:  480\n",
      "[9 7 8 ... 8 5 0] [9 7 8 ... 8 5 0]\n",
      "Accuracy:  0.9303414634146342\n",
      "Iteration:  490\n",
      "[9 7 8 ... 8 5 0] [9 7 8 ... 8 5 0]\n",
      "Accuracy:  0.9309756097560976\n"
     ]
    }
   ],
   "source": [
    "W1, b1, W2, b2 = gradient_descent(X_train,Y_train, 0.5, 500)"
   ]
  }
 ],
 "metadata": {
  "kernelspec": {
   "display_name": "Python 3",
   "language": "python",
   "name": "python3"
  },
  "language_info": {
   "codemirror_mode": {
    "name": "ipython",
    "version": 3
   },
   "file_extension": ".py",
   "mimetype": "text/x-python",
   "name": "python",
   "nbconvert_exporter": "python",
   "pygments_lexer": "ipython3",
   "version": "3.12.5"
  }
 },
 "nbformat": 4,
 "nbformat_minor": 5
}
